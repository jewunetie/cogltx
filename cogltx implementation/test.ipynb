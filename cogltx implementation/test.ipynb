{
 "cells": [
  {
   "cell_type": "code",
   "execution_count": 2,
   "metadata": {},
   "outputs": [
    {
     "name": "stderr",
     "output_type": "stream",
     "text": [
      "/usr/local/lib/python3.9/site-packages/tensorflow/python/framework/dtypes.py:523: FutureWarning: Passing (type, 1) or '1type' as a synonym of type is deprecated; in a future version of numpy, it will be understood as (type, (1,)) / '(1,)type'.\n",
      "  _np_qint8 = np.dtype([(\"qint8\", np.int8, 1)])\n",
      "/usr/local/lib/python3.9/site-packages/tensorflow/python/framework/dtypes.py:524: FutureWarning: Passing (type, 1) or '1type' as a synonym of type is deprecated; in a future version of numpy, it will be understood as (type, (1,)) / '(1,)type'.\n",
      "  _np_quint8 = np.dtype([(\"quint8\", np.uint8, 1)])\n",
      "/usr/local/lib/python3.9/site-packages/tensorflow/python/framework/dtypes.py:525: FutureWarning: Passing (type, 1) or '1type' as a synonym of type is deprecated; in a future version of numpy, it will be understood as (type, (1,)) / '(1,)type'.\n",
      "  _np_qint16 = np.dtype([(\"qint16\", np.int16, 1)])\n",
      "/usr/local/lib/python3.9/site-packages/tensorflow/python/framework/dtypes.py:526: FutureWarning: Passing (type, 1) or '1type' as a synonym of type is deprecated; in a future version of numpy, it will be understood as (type, (1,)) / '(1,)type'.\n",
      "  _np_quint16 = np.dtype([(\"quint16\", np.uint16, 1)])\n",
      "/usr/local/lib/python3.9/site-packages/tensorflow/python/framework/dtypes.py:527: FutureWarning: Passing (type, 1) or '1type' as a synonym of type is deprecated; in a future version of numpy, it will be understood as (type, (1,)) / '(1,)type'.\n",
      "  _np_qint32 = np.dtype([(\"qint32\", np.int32, 1)])\n",
      "/usr/local/lib/python3.9/site-packages/tensorflow/python/framework/dtypes.py:532: FutureWarning: Passing (type, 1) or '1type' as a synonym of type is deprecated; in a future version of numpy, it will be understood as (type, (1,)) / '(1,)type'.\n",
      "  np_resource = np.dtype([(\"resource\", np.ubyte, 1)])\n",
      "<frozen importlib._bootstrap>:228: RuntimeWarning: compiletime version 3.6 of module 'tensorflow.python.framework.fast_tensor_util' does not match runtime version 3.9\n",
      "<frozen importlib._bootstrap>:228: RuntimeWarning: builtins.type size changed, may indicate binary incompatibility. Expected 880, got 864\n"
     ]
    },
    {
     "data": {
      "text/plain": [
       "2780"
      ]
     },
     "execution_count": 2,
     "metadata": {},
     "output_type": "execute_result"
    }
   ],
   "source": [
    "import re\n",
    "from tqdm import tqdm\n",
    "from transformers import AutoTokenizer\n",
    "import os\n",
    "import sys\n",
    "import pickle\n",
    "\n",
    "# root_dir = os.path.abspath(os.path.dirname(os.path.dirname(__file__)))\n",
    "# sys.path.append(root_dir)\n",
    "\n",
    "DEFAULT_MODEL_NAME = 'roberta-base'\n",
    "\n",
    "def clean(data):\n",
    "    tmp_doc = []\n",
    "    for words in data.split():\n",
    "        if ':' not in words and '@' not in words and len(words) <= 60:\n",
    "            c = re.sub(r'[>|-]', '', words)\n",
    "            if len(c) > 0:\n",
    "                tmp_doc.append(c)\n",
    "    tmp_doc = ' '.join(tmp_doc)\n",
    "    tmp_doc = re.sub(r'\\([A-Za-z \\.]*[A-Z][A-Za-z \\.]*\\) ', '', tmp_doc)\n",
    "    return tmp_doc\n",
    "\n",
    "s = \"The Pacific Economic Cooperation Council (PECC) has issued a report examining the economic impact of the COVID-19 crisis on the Asia-Pacific region and outlining an agenda for cooperation.The technical and policy-focused publication titled, ‘State of the Region: Special report on COVID-19,’ acknowledges high levels of policy uncertainty in the region due to the pandemic, as well as the scale and duration of related economic and social shocks, and pace of recovery. The report thus focuses on how regional cooperation can provide governments with more options for recovery in the face of these uncertainties.The report collates a set of proposals using data collected from 710 survey respondents in business, academia, government, and civil society between 9 May and 12 June 2020. The results show greater levels of pessimism on economic impacts to the region than official estimates indicate. The report points to regional stimulus efforts totaling approximately USD 5.4 trillion, and notes that while policymakers’ appetites are constrained by memories of recent financial crises, “regional economies have space for further stimulus.”Regional mechanisms, the authors emphasize, can facilitate the design and implementation of coordination and cooperation packages, and build a sense of direction to support future growth. They note that top priorities for regional cooperation include sharing pandemic preparedness practices, vaccine development, and three aspects of trade with respect to essential products: the facilitation of trade as a whole; the removal of export restrictions; and the removal of tariffs.Observing that the pandemic has both deepened and accelerated preexisting trends, the report notes the importance of human contact, but also opportunities around digital technology and the multitude of connections available. As schools remain shuttered in many parts of the world, the report notes remote learning opportunities, with the caveat that risks remain around the digital divide despite action being taken through the Asia-Pacific Economic Cooperation (APEC) Internet and Digital Roadmap.To address the “first order” priorities stemming from the pandemic, the report recommends multilateral actions that facilitate regional progress on seven issue areas:Information sharing;Flow of essential products;Moving beyond gross domestic product (GDP);Facilitating e-commerce;Restarting travel;Minimizing disruption to supply chains; andContact tracing.A message from PECC co-chairs Don Campbell and Su Ge highlights that this year marks PECC’s 40th anniversary and that the rationale behind the Council’s establishment still rings true today. They note that “[w]e can only resolve this pandemic and economic crisis through effective cooperation.” [Publication:State of the Region Report: Impact of the Covid‐19 Crisis] [Publication Landing Page]\""
   ]
  },
  {
   "cell_type": "code",
   "execution_count": 31,
   "metadata": {},
   "outputs": [
    {
     "name": "stderr",
     "output_type": "stream",
     "text": [
      "Token indices sequence length is longer than the specified maximum sequence length for this model (557 > 512). Running this sequence through the model will result in indexing errors\n"
     ]
    },
    {
     "data": {
      "text/plain": [
       "'<s>The Pacific Economic Cooperation Council (PECC) has issued a report examining the economic impact of the COVID-19 crisis on the Asia-Pacific region and outlining an agenda for cooperation.The technical and policy-focused publication titled, ‘State of the Region: Special report on COVID-19,’ acknowledges high levels of policy uncertainty in the region due to the pandemic, as well as the scale and duration of related economic and social shocks, and pace of recovery. The report thus focuses on how regional cooperation can provide governments with more options for recovery in the face of these uncertainties.The report collates a set of proposals using data collected from 710 survey respondents in business, academia, government, and civil society between 9 May and 12 June 2020. The results show greater levels of pessimism on economic impacts to the region than official estimates indicate. The report points to regional stimulus efforts totaling approximately USD 5.4 trillion, and notes that while policymakers’ appetites are constrained by memories of recent financial crises, “regional economies have space for further stimulus.”Regional mechanisms, the authors emphasize, can facilitate the design and implementation of coordination and cooperation packages, and build a sense of direction to support future growth. They note that top priorities for regional cooperation include sharing pandemic preparedness practices, vaccine development, and three aspects of trade with respect to essential products: the facilitation of trade as a whole; the removal of export restrictions; and the removal of tariffs.Observing that the pandemic has both deepened and accelerated preexisting trends, the report notes the importance of human contact, but also opportunities around digital technology and the multitude of connections available. As schools remain shuttered in many parts of the world, the report notes remote learning opportunities, with the caveat that risks remain around the digital divide despite action being taken through the Asia-Pacific Economic Cooperation (APEC) Internet and Digital Roadmap.To address the “first order” priorities stemming from the pandemic, the report recommends multilateral actions that facilitate regional progress on seven issue areas:Information sharing;Flow of essential products;Moving beyond gross domestic product (GDP);Facilitating e-commerce;Restarting travel;Minimizing disruption to supply chains; andContact tracing.A message from PECC co-chairs Don Campbell and Su Ge highlights that this year marks PECC’s 40th anniversary and that the rationale behind the Council’s establishment still rings true today. They note that “[w]e can only resolve this pandemic and economic crisis through effective cooperation.” [Publication:State of the Region Report: Impact of the Covid‐19 Crisis] [Publication Landing Page]</s>'"
      ]
     },
     "execution_count": 31,
     "metadata": {},
     "output_type": "execute_result"
    }
   ],
   "source": [
    "tokenizer = AutoTokenizer.from_pretrained(DEFAULT_MODEL_NAME)\n",
    "\n",
    "def clean(text):\n",
    "    text = re.sub(r'\\s+', ' ', text)\n",
    "    return text\n",
    "\n",
    "tokenizer.decode(tokenizer.encode(clean(s)))"
   ]
  },
  {
   "cell_type": "code",
   "execution_count": 23,
   "metadata": {},
   "outputs": [
    {
     "name": "stdout",
     "output_type": "stream",
     "text": [
      "[0, 133, 3073, 4713, 18204, 1080, 36, 510, 3586, 347, 43, 34, 1167, 10, 266, 14951, 5, 776, 913, 9, 5, 6247, 43814, 12, 1646, 1486, 15, 5, 1817, 12, 8145, 976, 8, 24387, 41, 4026, 13, 4601, 4, 2]\n",
      "<s>The Pacific Economic Cooperation Council (PECC) has issued a report examining the economic impact of the COVID-19 crisis on the Asia-Pacific region and outlining an agenda for cooperation.</s>\n",
      "[0, 133, 3165, 8, 714, 12, 12804, 5362, 6593, 6, 44, 711, 13360, 9, 5, 6131, 35, 3672, 266, 15, 6247, 43814, 12, 1646, 6, 17, 27, 17748, 239, 1389, 9, 714, 4983, 11, 5, 976, 528, 7, 5, 23387, 14414, 6, 25, 157, 25, 5, 3189, 8, 13428, 9, 1330, 776, 8, 592, 23485, 6, 8, 2877, 9, 2752, 4, 2]\n",
      "<s>The technical and policy-focused publication titled, ‘State of the Region: Special report on COVID-19,’ acknowledges high levels of policy uncertainty in the region due to the pandemic, as well as the scale and duration of related economic and social shocks, and pace of recovery.</s>\n",
      "[0, 133, 266, 4634, 7235, 15, 141, 2174, 4601, 64, 694, 3233, 19, 55, 1735, 13, 2752, 11, 5, 652, 9, 209, 10389, 4, 2]\n",
      "<s>The report thus focuses on how regional cooperation can provide governments with more options for recovery in the face of these uncertainties.</s>\n",
      "[0, 133, 266, 9843, 1626, 10, 278, 9, 5327, 634, 414, 4786, 31, 262, 698, 2658, 10011, 11, 265, 6, 30017, 6, 168, 6, 8, 2366, 2313, 227, 361, 392, 8, 316, 502, 2760, 4, 2]\n",
      "<s>The report collates a set of proposals using data collected from 710 survey respondents in business, academia, government, and civil society between 9 May and 12 June 2020.</s>\n",
      "[0, 133, 775, 311, 2388, 1389, 9, 36494, 1809, 15, 776, 7342, 7, 5, 976, 87, 781, 2785, 6364, 4, 2]\n",
      "<s>The results show greater levels of pessimism on economic impacts to the region than official estimates indicate.</s>\n",
      "[0, 133, 266, 332, 7, 2174, 8931, 1170, 17405, 2219, 6775, 195, 4, 306, 4700, 6, 8, 2775, 14, 150, 12875, 17, 27, 24959, 5110, 32, 26525, 30, 6180, 9, 485, 613, 16645, 6, 44, 48, 4950, 6073, 6795, 33, 980, 13, 617, 8931, 4, 2]\n",
      "<s>The report points to regional stimulus efforts totaling approximately USD 5.4 trillion, and notes that while policymakers’ appetites are constrained by memories of recent financial crises, “regional economies have space for further stimulus.</s>\n",
      "[0, 17, 46, 23007, 6073, 14519, 6, 5, 7601, 20251, 6, 64, 9666, 5, 1521, 8, 5574, 9, 13141, 8, 4601, 8368, 6, 8, 1119, 10, 1472, 9, 2698, 7, 323, 499, 434, 4, 2]\n",
      "<s>”Regional mechanisms, the authors emphasize, can facilitate the design and implementation of coordination and cooperation packages, and build a sense of direction to support future growth.</s>\n",
      "[0, 1213, 1591, 14, 299, 7532, 13, 2174, 4601, 680, 3565, 23387, 14414, 2460, 1825, 3464, 6, 9937, 709, 6, 8, 130, 5894, 9, 721, 19, 2098, 7, 4499, 785, 35, 5, 11778, 20825, 9, 721, 25, 10, 1086, 131, 5, 7129, 9, 5376, 5165, 131, 8, 5, 7129, 9, 4185, 4, 2]\n",
      "<s>They note that top priorities for regional cooperation include sharing pandemic preparedness practices, vaccine development, and three aspects of trade with respect to essential products: the facilitation of trade as a whole; the removal of export restrictions; and the removal of tariffs.</s>\n",
      "[0, 40089, 25373, 14, 5, 23387, 14414, 34, 258, 1844, 4490, 8, 13072, 39685, 1178, 15528, 3926, 6, 5, 266, 2775, 5, 3585, 9, 1050, 1511, 6, 53, 67, 1616, 198, 1778, 806, 8, 5, 25180, 9, 7070, 577, 4, 2]\n",
      "<s>Observing that the pandemic has both deepened and accelerated preexisting trends, the report notes the importance of human contact, but also opportunities around digital technology and the multitude of connections available.</s>\n",
      "[0, 1620, 1304, 1091, 2572, 10001, 11, 171, 1667, 9, 5, 232, 6, 5, 266, 2775, 6063, 2239, 1616, 6, 19, 5, 31929, 14, 2476, 1091, 198, 5, 1778, 11079, 1135, 814, 145, 551, 149, 5, 1817, 12, 8145, 4713, 18204, 36, 591, 3586, 43, 3742, 8, 6282, 1214, 32557, 4, 2]\n",
      "<s>As schools remain shuttered in many parts of the world, the report notes remote learning opportunities, with the caveat that risks remain around the digital divide despite action being taken through the Asia-Pacific Economic Cooperation (APEC) Internet and Digital Roadmap.</s>\n",
      "[0, 3972, 1100, 5, 44, 48, 9502, 645, 17, 46, 7532, 16249, 31, 5, 23387, 14414, 6, 5, 266, 10827, 7268, 16908, 2163, 14, 9666, 2174, 2017, 15, 707, 696, 911, 35, 38741, 3565, 131, 41779, 9, 4499, 785, 131, 41780, 1684, 4200, 1897, 1152, 36, 534, 5174, 4397, 46166, 41160, 364, 12, 8342, 131, 31921, 2013, 154, 1504, 131, 20086, 757, 2787, 10044, 7, 1787, 9781, 131, 8, 43354, 35105, 4, 2]\n",
      "<s>To address the “first order” priorities stemming from the pandemic, the report recommends multilateral actions that facilitate regional progress on seven issue areas:Information sharing;Flow of essential products;Moving beyond gross domestic product (GDP);Facilitating e-commerce;Restarting travel;Minimizing disruption to supply chains; andContact tracing.</s>\n",
      "Truncation at position 9 with sentence 'To address the “first order” priorities stemming from the pandemic, the report recommends multilateral actions that facilitate regional progress on seven issue areas:Information sharing;Flow of essential products;Moving beyond gross domestic product (GDP);Facilitating e-commerce;Restarting travel;Minimizing disruption to supply chains; andContact tracing.'\n",
      "[0, 250, 1579, 31, 221, 3586, 347, 1029, 12, 27714, 1599, 5925, 8, 3296, 4177, 5586, 14, 42, 76, 4863, 221, 3586, 347, 17, 27, 29, 843, 212, 4038, 8, 14, 5, 23437, 639, 5, 1080, 17, 27, 29, 7147, 202, 11987, 1528, 452, 4, 2]\n",
      "<s>A message from PECC co-chairs Don Campbell and Su Ge highlights that this year marks PECC’s 40th anniversary and that the rationale behind the Council’s establishment still rings true today.</s>\n",
      "[0, 1213, 1591, 14, 44, 48, 10975, 605, 742, 242, 64, 129, 5728, 42, 23387, 14414, 8, 776, 1486, 149, 2375, 4601, 4, 17, 46, 2]\n",
      "<s>They note that “[w]e can only resolve this pandemic and economic crisis through effective cooperation.”</s>\n",
      "[0, 10975, 22649, 1258, 35, 13360, 9, 5, 6131, 2872, 35, 14052, 9, 5, 19150, 808, 39497, 1646, 19330, 742, 646, 22649, 1258, 24979, 7086, 742, 2]\n",
      "<s>[Publication:State of the Region Report: Impact of the Covid‐19 Crisis] [Publication Landing Page]</s>\n"
     ]
    }
   ],
   "source": [
    "import stanza\n",
    "nlp = stanza.Pipeline(lang='en', processors='tokenize', verbose=False)\n",
    "\n",
    "class Block:\n",
    "    tokenizer = AutoTokenizer.from_pretrained(DEFAULT_MODEL_NAME)\n",
    "    def __init__(self, ids, pos, blk_type=1):\n",
    "        self.ids = ids\n",
    "        self.pos = pos\n",
    "        self.relevance = 0\n",
    "        self.estimation = 0\n",
    "    \n",
    "    def add_sentence_ids(self, ids):\n",
    "        self.ids.extend(ids)\n",
    "        \n",
    "    def ß__lt__(self, rhs):\n",
    "        return self.blk_type < rhs.blk_type or (self.blk_type == rhs.blk_type and self.pos < rhs.pos)\n",
    "    \n",
    "    def __ne__(self, rhs):\n",
    "        return self.pos != rhs.pos or self.blk_type != rhs.blk_type\n",
    "    \n",
    "    def __len__(self):\n",
    "        return len(self.ids)\n",
    "    \n",
    "    def __str__(self):\n",
    "        return Block.tokenizer.convert_tokens_to_string(Block.tokenizer.convert_ids_to_tokens(self.ids))\n",
    "\n",
    "\n",
    "# split text into sentences\n",
    "def split_text_into_sentences(text):\n",
    "    text = re.sub(r'\\s+', ' ', text)\n",
    "    doc = nlp(text)\n",
    "    sentences = [sentence.text for sentence in doc.sentences]\n",
    "    return sentences\n",
    "\n",
    "# group a list of sentences into blocks of size BLOCK_SIZE\n",
    "def group_sentences_into_blocks(sentences, block_size=63):\n",
    "    tokenzier = AutoTokenizer.from_pretrained(DEFAULT_MODEL_NAME)\n",
    "    \n",
    "    blocks = []\n",
    "    current_position = 0\n",
    "    current_block = Block([], current_position)\n",
    "    for sentence in sentences:\n",
    "        tokenized_sentence = tokenzier.encode(sentence)\n",
    "        \n",
    "        if len(current_block) + len(tokenized_sentence) <= block_size:\n",
    "            current_block.add_sentence_ids(tokenized_sentence)\n",
    "        else:\n",
    "            blocks.append(current_block)\n",
    "            current_position += 1\n",
    "            \n",
    "            if len(tokenized_sentence) > block_size:\n",
    "                tokenized_sentence = tokenized_sentence[:block_size]\n",
    "                print(f\"Truncation at position {current_position} with sentence '{sentence}'\")\n",
    "            current_block = Block(tokenized_sentence, current_position)\n",
    "    blocks.append(current_block)\n",
    "    \n",
    "    return blocks\n",
    "        \n",
    "        \n",
    "\n",
    "sentences = split_text_into_sentences(s)\n",
    "blocks = group_sentences_into_blocks(sentences)"
   ]
  },
  {
   "cell_type": "code",
   "execution_count": 20,
   "metadata": {},
   "outputs": [
    {
     "data": {
      "text/plain": [
       "['The Pacific Economic Cooperation Council (PECC) has issued a report examining the economic impact of the COVID-19 crisis on the Asia-Pacific region and outlining an agenda for cooperation.The technical and policy-focused publication titled, ‘State of the Region: Special report on COVID-19,’ acknowledges high levels of policy uncertainty in the region due to the pandemic, as well as the scale and duration of related economic and social shocks, and pace of recovery.',\n",
       " 'The report thus focuses on how regional cooperation can provide governments with more options for recovery in the face of these uncertainties.The report collates a set of proposals using data collected from 710 survey respondents in business, academia, government, and civil society between 9 May and 12 June 2020.',\n",
       " 'The results show greater levels of pessimism on economic impacts to the region than official estimates indicate.',\n",
       " 'The report points to regional stimulus efforts totaling approximately USD 5.4 trillion, and notes that while policymakers’ appetites are constrained by memories of recent financial crises, “regional economies have space for further stimulus.”Regional mechanisms, the authors emphasize, can facilitate the design and implementation of coordination and cooperation packages, and build a sense of direction to support future growth.',\n",
       " 'They note that top priorities for regional cooperation include sharing pandemic preparedness practices, vaccine development, and three aspects of trade with respect to essential products: the facilitation of trade as a whole; the removal of export restrictions; and the removal of tariffs.Observing that the pandemic has both deepened and accelerated preexisting trends, the report notes the importance of human contact, but also opportunities around digital technology and the multitude of connections available.',\n",
       " 'As schools remain shuttered in many parts of the world, the report notes remote learning opportunities, with the caveat that risks remain around the digital divide despite action being taken through the Asia-Pacific Economic Cooperation (APEC) Internet and Digital Roadmap.To address the “first order” priorities stemming from the pandemic, the report recommends multilateral actions that facilitate regional progress on seven issue areas:Information sharing;Flow of essential products;Moving beyond gross domestic product (GDP);Facilitating e-commerce;Restarting travel;Minimizing disruption to supply chains; andContact tracing.A message from PECC co-chairs Don Campbell and Su Ge highlights that this year marks PECC’s 40th anniversary and that the rationale behind the Council’s establishment still rings true today.',\n",
       " 'They note that “[w]e can only resolve this pandemic and economic crisis through effective cooperation.” [Publication:State of the Region Report: Impact of the Covid‐19 Crisis] [Publication Landing Page]']"
      ]
     },
     "execution_count": 20,
     "metadata": {},
     "output_type": "execute_result"
    }
   ],
   "source": [
    "from nltk.tokenize import sent_tokenize\n",
    "\n",
    "def split_text_into_sentences(text):\n",
    "    text = re.sub(r'\\s+', ' ', text)\n",
    "    doc = sent_tokenize(text)\n",
    "    return doc\n",
    "\n",
    "split_text_into_sentences(s)"
   ]
  },
  {
   "cell_type": "code",
   "execution_count": 27,
   "metadata": {},
   "outputs": [
    {
     "name": "stderr",
     "output_type": "stream",
     "text": [
      "Token indices sequence length is longer than the specified maximum sequence length for this model (562 > 512). Running this sequence through the model will result in indexing errors\n"
     ]
    },
    {
     "data": {
      "text/plain": [
       "'<s>The Pacific Economic Cooperation Council (PECC) has issued a report examining the economic impact of the COVID-19 crisis on the Asia-Pacific region and outlining an agenda for cooperation.The technical and policy-focused publication titled, ‘State of the Region: Special report on COVID-19,’ acknowledges\\xa0high levels of policy uncertainty in the region due to the pandemic,\\xa0as well as the scale and duration of related economic and social shocks, and pace of recovery. The report thus focuses on how regional cooperation can provide governments with more options for recovery in the face of these uncertainties.The report collates a set of proposals using data collected from 710 survey respondents in business, academia, government, and civil society between 9 May and 12 June 2020. The results show greater levels of pessimism on economic impacts to the region than official estimates indicate. The report points to regional stimulus efforts totaling approximately USD 5.4 trillion, and notes that while policymakers’ appetites are constrained by memories of recent financial crises, “regional economies have space for further stimulus.”Regional mechanisms, the\\xa0authors emphasize, can facilitate the design and implementation of coordination and cooperation packages, and build a sense of direction to support future growth. They note that top priorities for regional cooperation include sharing pandemic preparedness practices, vaccine development, and three aspects of trade with respect to essential products: the facilitation of trade as a whole; the removal of export restrictions; and the removal of tariffs.Observing that the pandemic has both deepened and accelerated preexisting trends, the report notes the importance of human contact, but also opportunities around digital technology and the multitude of connections available. As schools remain shuttered in many parts of the world, the report notes remote learning opportunities, with the caveat that risks remain around the digital divide despite action being taken through the Asia-Pacific Economic Cooperation (APEC) Internet and Digital Roadmap.To address the “first order” priorities stemming from the pandemic, the report recommends multilateral actions that facilitate regional progress on seven issue areas:Information sharing;Flow of essential products;Moving beyond gross domestic product (GDP);Facilitating e-commerce;Restarting travel;Minimizing disruption to supply chains; andContact tracing.A message from PECC co-chairs Don Campbell and Su Ge highlights that this year marks PECC’s 40th\\xa0anniversary and that the rationale behind the Council’s establishment still rings true today. They note that “[w]e can only resolve this pandemic and economic crisis through effective cooperation.” [Publication:State of the Region Report: Impact of the Covid‐19 Crisis] [Publication Landing Page]</s>'"
      ]
     },
     "execution_count": 27,
     "metadata": {},
     "output_type": "execute_result"
    }
   ],
   "source": [
    "tokenizer = AutoTokenizer.from_pretrained(DEFAULT_MODEL_NAME)\n",
    "tokenizer.decode(tokenizer.encode(s))"
   ]
  },
  {
   "cell_type": "code",
   "execution_count": 28,
   "metadata": {},
   "outputs": [
    {
     "data": {
      "text/plain": [
       "[0, 1, 2, 3, 4, 5, 6, 7, 8, 9]"
      ]
     },
     "execution_count": 28,
     "metadata": {},
     "output_type": "execute_result"
    }
   ],
   "source": [
    "list(range(0,10))"
   ]
  }
 ],
 "metadata": {
  "interpreter": {
   "hash": "aee8b7b246df8f9039afb4144a1f6fd8d2ca17a180786b69acc140d282b71a49"
  },
  "kernelspec": {
   "display_name": "Python 3.9.10 64-bit",
   "language": "python",
   "name": "python3"
  },
  "language_info": {
   "codemirror_mode": {
    "name": "ipython",
    "version": 3
   },
   "file_extension": ".py",
   "mimetype": "text/x-python",
   "name": "python",
   "nbconvert_exporter": "python",
   "pygments_lexer": "ipython3",
   "version": "3.9.10"
  },
  "orig_nbformat": 4
 },
 "nbformat": 4,
 "nbformat_minor": 2
}
